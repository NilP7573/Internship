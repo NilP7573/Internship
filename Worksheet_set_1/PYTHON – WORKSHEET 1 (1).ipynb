{
 "cells": [
  {
   "cell_type": "markdown",
   "id": "1b165bd6",
   "metadata": {},
   "source": [
    "# PYTHON – WORKSHEET 1"
   ]
  },
  {
   "cell_type": "markdown",
   "id": "c55b0949",
   "metadata": {},
   "source": [
    "**1. Which of the following operators is used to calculate remainder in a division?**\n",
    "\n",
    "Ans: C) %"
   ]
  },
  {
   "cell_type": "markdown",
   "id": "7551aaef",
   "metadata": {},
   "source": [
    "**2. In python 2//3 is equal to?**\n",
    "\n",
    "Ans: B)0"
   ]
  },
  {
   "cell_type": "markdown",
   "id": "ec892302",
   "metadata": {},
   "source": [
    "**3. In python, 6<<2 is equal to?**\n",
    "\n",
    "Ans: C) 24"
   ]
  },
  {
   "cell_type": "markdown",
   "id": "014f49de",
   "metadata": {},
   "source": [
    "**4. In python, 6&2 will give which of the following as output?**\n",
    "\n",
    "Ans: A) 2"
   ]
  },
  {
   "cell_type": "markdown",
   "id": "b01c8453",
   "metadata": {},
   "source": [
    "**5. In python, 6|2 will give which of the following as output?**\n",
    "\n",
    "Ans: D) 6"
   ]
  },
  {
   "cell_type": "markdown",
   "id": "0c6b15a9",
   "metadata": {},
   "source": [
    "**6. What does the finally keyword denotes in python?**\n",
    "\n",
    "Ans: B) It encloses the lines of code which will be executed if any error occurs while executing the lines of code in the try block."
   ]
  },
  {
   "cell_type": "markdown",
   "id": "3e7a50ef",
   "metadata": {},
   "source": [
    "**7. What does raise keyword is used for in python?**\n",
    "\n",
    "Ans: A) It is used to raise an exception."
   ]
  },
  {
   "cell_type": "markdown",
   "id": "8ccd0e55",
   "metadata": {},
   "source": [
    "**8. Which of the following is a common use case of yield keyword in python?**\n",
    "\n",
    "Ans: C) in defining a generator"
   ]
  },
  {
   "cell_type": "markdown",
   "id": "8709f7fb",
   "metadata": {},
   "source": [
    "**9. Which of the following are the valid variable names?**\n",
    "\n",
    "Ans: A) _abc, C) abc2"
   ]
  },
  {
   "cell_type": "markdown",
   "id": "407958dd",
   "metadata": {},
   "source": [
    "**10. Which of the following are the keywords in python?**\n",
    "\n",
    "Ans: B) raise"
   ]
  },
  {
   "cell_type": "markdown",
   "id": "68b09eae",
   "metadata": {},
   "source": [
    "**11. Write a python program to find the factorial of a number.**"
   ]
  },
  {
   "cell_type": "code",
   "execution_count": 40,
   "id": "79abd00a",
   "metadata": {},
   "outputs": [
    {
     "name": "stdout",
     "output_type": "stream",
     "text": [
      "Please enter the number: 5\n",
      "The Factorial of the given number is: 120\n"
     ]
    }
   ],
   "source": [
    "def factnum(num):\n",
    "    if num == 1 or num ==0:\n",
    "        return 1\n",
    "    else:\n",
    "        return (num * factnum(num-1))\n",
    "num = int(input('Please enter the number: '))\n",
    "\n",
    "print('The Factorial of the given number is:', factnum(num))"
   ]
  },
  {
   "cell_type": "markdown",
   "id": "97bf5726",
   "metadata": {},
   "source": [
    "**12. Write a python program to find whether a number is prime or composite.**"
   ]
  },
  {
   "cell_type": "code",
   "execution_count": 57,
   "id": "2b9fc621",
   "metadata": {},
   "outputs": [
    {
     "name": "stdout",
     "output_type": "stream",
     "text": [
      "Please enter the number: 23\n",
      "23 is a prime number\n"
     ]
    }
   ],
   "source": [
    "def findprimecomp(num):\n",
    "    if num > 1:\n",
    "        for i in range(2, num):\n",
    "            if (num % i) == 0:\n",
    "                print(num, \"is not a prime number, it is a composite number\")\n",
    "                break\n",
    "        else:\n",
    "            print(num, \"is a prime number\")\n",
    "    elif num == 0 or 1:\n",
    "        print(num, \"is a neither Prime nor Composite number\")\n",
    "    else:\n",
    "        print()\n",
    "    \n",
    "num = int(input('Please enter the number: '))\n",
    "findprimecomp(num)"
   ]
  },
  {
   "cell_type": "markdown",
   "id": "375ac3eb",
   "metadata": {},
   "source": [
    "**13. Write a python program to check whether a given string is palindrome or not.**"
   ]
  },
  {
   "cell_type": "code",
   "execution_count": 63,
   "id": "373460d6",
   "metadata": {},
   "outputs": [
    {
     "name": "stdout",
     "output_type": "stream",
     "text": [
      "Please enter the name: ama\n",
      "The given string is Palindrome\n"
     ]
    }
   ],
   "source": [
    "def checkforpalindrome(str1):\n",
    "    if str1 == str1[::-1]:\n",
    "        print('The given string is Palindrome')\n",
    "    else:\n",
    "        print('The given string is not Palindrome')\n",
    "        \n",
    "str1 = input('Please enter the name: ')\n",
    "checkforpalindrome(str1)"
   ]
  },
  {
   "cell_type": "markdown",
   "id": "435994ce",
   "metadata": {},
   "source": [
    "**14. Write a Python program to get the third side of right-angled triangle from two given sides.**"
   ]
  },
  {
   "cell_type": "code",
   "execution_count": 87,
   "id": "6754b65d",
   "metadata": {},
   "outputs": [
    {
     "name": "stdout",
     "output_type": "stream",
     "text": [
      "Third side of the right angle Triangle is 5.0\n"
     ]
    }
   ],
   "source": [
    "import math\n",
    "a = 3\n",
    "b = 4\n",
    "def sidetria():\n",
    "    \n",
    "    c = a**2 + b**2\n",
    "    print('Third side of the right angle Triangle is', math.sqrt(c))\n",
    "\n",
    "sidetria()  "
   ]
  },
  {
   "cell_type": "markdown",
   "id": "a9aa5ae2",
   "metadata": {},
   "source": [
    "**15. Write a python program to print the frequency of each of the characters present in a given string.**"
   ]
  },
  {
   "cell_type": "code",
   "execution_count": 92,
   "id": "9dfab095",
   "metadata": {},
   "outputs": [
    {
     "name": "stdout",
     "output_type": "stream",
     "text": [
      "Please enter the string: datatrained\n",
      "the frequency of each of the characters present in a given string :\n",
      " {'d': 2, 'a': 3, 't': 2, 'r': 1, 'i': 1, 'n': 1, 'e': 1}\n"
     ]
    }
   ],
   "source": [
    "def freqchar(str2):\n",
    "    freq = {}\n",
    "    for i in str2:\n",
    "        if i in freq:\n",
    "            freq[i] += 1\n",
    "        else:\n",
    "            freq[i] = 1\n",
    "    print(\"the frequency of each of the characters present in a given string :\\n \"+ str(freq))\n",
    "str2 = input('Please enter the string: ')\n",
    "freqchar(str2)"
   ]
  },
  {
   "cell_type": "code",
   "execution_count": null,
   "id": "b637765d",
   "metadata": {},
   "outputs": [],
   "source": []
  }
 ],
 "metadata": {
  "kernelspec": {
   "display_name": "Python 3 (ipykernel)",
   "language": "python",
   "name": "python3"
  },
  "language_info": {
   "codemirror_mode": {
    "name": "ipython",
    "version": 3
   },
   "file_extension": ".py",
   "mimetype": "text/x-python",
   "name": "python",
   "nbconvert_exporter": "python",
   "pygments_lexer": "ipython3",
   "version": "3.10.9"
  }
 },
 "nbformat": 4,
 "nbformat_minor": 5
}
